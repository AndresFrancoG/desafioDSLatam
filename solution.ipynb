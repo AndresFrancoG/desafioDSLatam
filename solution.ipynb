{
 "cells": [
  {
   "cell_type": "markdown",
   "id": "82349b35",
   "metadata": {},
   "source": [
    "# Desafío Data Science Latam"
   ]
  },
  {
   "cell_type": "markdown",
   "id": "70dac83c",
   "metadata": {},
   "source": [
    "## Importa librerías"
   ]
  },
  {
   "cell_type": "code",
   "execution_count": 1,
   "id": "1d79cd50",
   "metadata": {},
   "outputs": [],
   "source": [
    "import pandas as pd"
   ]
  },
  {
   "cell_type": "markdown",
   "id": "9547c250",
   "metadata": {},
   "source": [
    "## Carga archivo de datos"
   ]
  },
  {
   "cell_type": "code",
   "execution_count": 3,
   "id": "3e299ac4",
   "metadata": {},
   "outputs": [
    {
     "name": "stdout",
     "output_type": "stream",
     "text": [
      "<class 'pandas.core.frame.DataFrame'>\n",
      "RangeIndex: 68206 entries, 0 to 68205\n",
      "Data columns (total 18 columns):\n",
      " #   Column     Non-Null Count  Dtype         \n",
      "---  ------     --------------  -----         \n",
      " 0   Fecha-I    68206 non-null  datetime64[ns]\n",
      " 1   Vlo-I      68206 non-null  object        \n",
      " 2   Ori-I      68206 non-null  object        \n",
      " 3   Des-I      68206 non-null  object        \n",
      " 4   Emp-I      68206 non-null  object        \n",
      " 5   Fecha-O    68206 non-null  datetime64[ns]\n",
      " 6   Vlo-O      68205 non-null  object        \n",
      " 7   Ori-O      68206 non-null  object        \n",
      " 8   Des-O      68206 non-null  object        \n",
      " 9   Emp-O      68206 non-null  object        \n",
      " 10  DIA        68206 non-null  int64         \n",
      " 11  MES        68206 non-null  int64         \n",
      " 12  AÑO        68206 non-null  int64         \n",
      " 13  DIANOM     68206 non-null  object        \n",
      " 14  TIPOVUELO  68206 non-null  object        \n",
      " 15  OPERA      68206 non-null  object        \n",
      " 16  SIGLAORI   68206 non-null  object        \n",
      " 17  SIGLADES   68206 non-null  object        \n",
      "dtypes: datetime64[ns](2), int64(3), object(13)\n",
      "memory usage: 9.4+ MB\n"
     ]
    },
    {
     "name": "stderr",
     "output_type": "stream",
     "text": [
      "C:\\Users\\an2fe\\anaconda3v2\\lib\\site-packages\\IPython\\core\\interactiveshell.py:3444: DtypeWarning: Columns (1,6) have mixed types.Specify dtype option on import or set low_memory=False.\n",
      "  exec(code_obj, self.user_global_ns, self.user_ns)\n"
     ]
    }
   ],
   "source": [
    "latamDF = pd.read_csv('dataset_SCL.csv', parse_dates=['Fecha-I','Fecha-O'])\n",
    "latamDF.info()"
   ]
  },
  {
   "cell_type": "markdown",
   "id": "a20b5bf9",
   "metadata": {},
   "source": [
    "## Pregunta 1\n",
    "### ¿Cómo se distribuyen los datos? ¿Qué te llama la atención o cuál es tu conclusión sobre esto?\n",
    "\n",
    "Los datos estan claramente diferenciados entre programados y operado, lo cual facilita determinar cuáles vuelos se retrasaron. En ambos casos (programado y operado), se incluye información en la fecha y hora, número de vuelo, ciudades de origen y destino, y código de la aerolinea.\n",
    "\n",
    "Adicionalmente se incluye columnas individuales para el dia, mes, y año en que los vuelos fueron operados. Inicialmente esta información parece redundante con la columna \"Fecha-O\". Adicionalmente se incluye el día de la semana, el cuál puede ser relevante para predecir el retraso de un vuelo.\n",
    "\n",
    "Una columna con el tipo de vuelo (Nacional o Internacional), la cuál también puede ser de importancia para la predicción.\n",
    "\n",
    "Finalmente, se tienen tres columnas con los nombres completos de la aerolinea operadora, ciudad de origen y ciudad de destino. Esta información es redundante con las columnas \"Ori-O\", \"Des-O\", \"Emp-O\".  \n",
    "\n",
    "A continuación se realizará una exploración de los datos para conocer más en detalle la distribución de los datos en el tiempo."
   ]
  },
  {
   "cell_type": "code",
   "execution_count": 6,
   "id": "c964ac40",
   "metadata": {},
   "outputs": [
    {
     "data": {
      "text/html": [
       "<div>\n",
       "<style scoped>\n",
       "    .dataframe tbody tr th:only-of-type {\n",
       "        vertical-align: middle;\n",
       "    }\n",
       "\n",
       "    .dataframe tbody tr th {\n",
       "        vertical-align: top;\n",
       "    }\n",
       "\n",
       "    .dataframe thead th {\n",
       "        text-align: right;\n",
       "    }\n",
       "</style>\n",
       "<table border=\"1\" class=\"dataframe\">\n",
       "  <thead>\n",
       "    <tr style=\"text-align: right;\">\n",
       "      <th></th>\n",
       "      <th>Fecha-I</th>\n",
       "      <th>Vlo-I</th>\n",
       "      <th>Ori-I</th>\n",
       "      <th>Des-I</th>\n",
       "      <th>Emp-I</th>\n",
       "      <th>Fecha-O</th>\n",
       "      <th>Vlo-O</th>\n",
       "      <th>Ori-O</th>\n",
       "      <th>Des-O</th>\n",
       "      <th>Emp-O</th>\n",
       "      <th>DIA</th>\n",
       "      <th>MES</th>\n",
       "      <th>AÑO</th>\n",
       "      <th>DIANOM</th>\n",
       "      <th>TIPOVUELO</th>\n",
       "      <th>OPERA</th>\n",
       "      <th>SIGLAORI</th>\n",
       "      <th>SIGLADES</th>\n",
       "    </tr>\n",
       "    <tr>\n",
       "      <th>Fecha-O</th>\n",
       "      <th></th>\n",
       "      <th></th>\n",
       "      <th></th>\n",
       "      <th></th>\n",
       "      <th></th>\n",
       "      <th></th>\n",
       "      <th></th>\n",
       "      <th></th>\n",
       "      <th></th>\n",
       "      <th></th>\n",
       "      <th></th>\n",
       "      <th></th>\n",
       "      <th></th>\n",
       "      <th></th>\n",
       "      <th></th>\n",
       "      <th></th>\n",
       "      <th></th>\n",
       "      <th></th>\n",
       "    </tr>\n",
       "  </thead>\n",
       "  <tbody>\n",
       "    <tr>\n",
       "      <th>2017</th>\n",
       "      <td>68204</td>\n",
       "      <td>68204</td>\n",
       "      <td>68204</td>\n",
       "      <td>68204</td>\n",
       "      <td>68204</td>\n",
       "      <td>68204</td>\n",
       "      <td>68203</td>\n",
       "      <td>68204</td>\n",
       "      <td>68204</td>\n",
       "      <td>68204</td>\n",
       "      <td>68204</td>\n",
       "      <td>68204</td>\n",
       "      <td>68204</td>\n",
       "      <td>68204</td>\n",
       "      <td>68204</td>\n",
       "      <td>68204</td>\n",
       "      <td>68204</td>\n",
       "      <td>68204</td>\n",
       "    </tr>\n",
       "    <tr>\n",
       "      <th>2018</th>\n",
       "      <td>2</td>\n",
       "      <td>2</td>\n",
       "      <td>2</td>\n",
       "      <td>2</td>\n",
       "      <td>2</td>\n",
       "      <td>2</td>\n",
       "      <td>2</td>\n",
       "      <td>2</td>\n",
       "      <td>2</td>\n",
       "      <td>2</td>\n",
       "      <td>2</td>\n",
       "      <td>2</td>\n",
       "      <td>2</td>\n",
       "      <td>2</td>\n",
       "      <td>2</td>\n",
       "      <td>2</td>\n",
       "      <td>2</td>\n",
       "      <td>2</td>\n",
       "    </tr>\n",
       "  </tbody>\n",
       "</table>\n",
       "</div>"
      ],
      "text/plain": [
       "         Fecha-I  Vlo-I  Ori-I  Des-I  Emp-I  Fecha-O  Vlo-O  Ori-O  Des-O  \\\n",
       "Fecha-O                                                                      \n",
       "2017       68204  68204  68204  68204  68204    68204  68203  68204  68204   \n",
       "2018           2      2      2      2      2        2      2      2      2   \n",
       "\n",
       "         Emp-O    DIA    MES    AÑO  DIANOM  TIPOVUELO  OPERA  SIGLAORI  \\\n",
       "Fecha-O                                                                   \n",
       "2017     68204  68204  68204  68204   68204      68204  68204     68204   \n",
       "2018         2      2      2      2       2          2      2         2   \n",
       "\n",
       "         SIGLADES  \n",
       "Fecha-O            \n",
       "2017        68204  \n",
       "2018            2  "
      ]
     },
     "execution_count": 6,
     "metadata": {},
     "output_type": "execute_result"
    }
   ],
   "source": [
    "#Agrupa los vuelos por año\n",
    "latamDF.groupby(latamDF['Fecha-O'].dt.year).count()"
   ]
  },
  {
   "cell_type": "markdown",
   "id": "263d7d7c",
   "metadata": {},
   "source": [
    "La gran mayoría de los vuelos incluidos en el dataset son del 2017, por lo cual el año será irrelevante para el análisis"
   ]
  }
 ],
 "metadata": {
  "kernelspec": {
   "display_name": "Python 3 (ipykernel)",
   "language": "python",
   "name": "python3"
  },
  "language_info": {
   "codemirror_mode": {
    "name": "ipython",
    "version": 3
   },
   "file_extension": ".py",
   "mimetype": "text/x-python",
   "name": "python",
   "nbconvert_exporter": "python",
   "pygments_lexer": "ipython3",
   "version": "3.9.7"
  }
 },
 "nbformat": 4,
 "nbformat_minor": 5
}
