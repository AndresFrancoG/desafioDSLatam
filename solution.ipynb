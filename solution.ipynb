{
 "cells": [
  {
   "cell_type": "markdown",
   "id": "e15d3402",
   "metadata": {},
   "source": [
    "# Desafío Data Science Latam"
   ]
  },
  {
   "cell_type": "markdown",
   "id": "c6e6dbcd",
   "metadata": {},
   "source": [
    "## Importa librerías"
   ]
  },
  {
   "cell_type": "code",
   "execution_count": 96,
   "id": "0f2db768",
   "metadata": {},
   "outputs": [],
   "source": [
    "import pandas as pd\n",
    "import matplotlib.pyplot as plt\n",
    "import numpy as np\n",
    "import datetime"
   ]
  },
  {
   "cell_type": "markdown",
   "id": "2c12df16",
   "metadata": {},
   "source": [
    "## Carga archivo de datos"
   ]
  },
  {
   "cell_type": "code",
   "execution_count": 97,
   "id": "d4123108",
   "metadata": {},
   "outputs": [
    {
     "name": "stderr",
     "output_type": "stream",
     "text": [
      "C:\\Users\\an2fe\\anaconda3v2\\lib\\site-packages\\IPython\\core\\interactiveshell.py:3444: DtypeWarning: Columns (1,6) have mixed types.Specify dtype option on import or set low_memory=False.\n",
      "  exec(code_obj, self.user_global_ns, self.user_ns)\n"
     ]
    }
   ],
   "source": [
    "latamDF = pd.read_csv('dataset_SCL.csv', parse_dates=['Fecha-I','Fecha-O'])"
   ]
  },
  {
   "cell_type": "markdown",
   "id": "d5382768",
   "metadata": {},
   "source": [
    "## Pregunta 1\n",
    "### ¿Cómo se distribuyen los datos? ¿Qué te llama la atención o cuál es tu conclusión sobre esto?\n",
    "\n",
    "Los datos estan claramente diferenciados entre programados y operado, lo cual facilita determinar cuáles vuelos se retrasaron. En ambos casos (programado y operado), se incluye información en la fecha y hora, número de vuelo, ciudades de origen y destino, y código de la aerolinea.\n",
    "\n",
    "Adicionalmente se incluye columnas individuales para el dia, mes, y año en que los vuelos fueron operados. Inicialmente esta información parece redundante con la columna \"Fecha-O\". Adicionalmente se incluye el día de la semana, el cuál puede ser relevante para predecir el retraso de un vuelo.\n",
    "\n",
    "Una columna con el tipo de vuelo (Nacional o Internacional), la cuál también puede ser de importancia para la predicción.\n",
    "\n",
    "Finalmente, se tienen tres columnas con los nombres completos de la aerolinea operadora, ciudad de origen y ciudad de destino. Esta información es redundante con las columnas \"Ori-O\", \"Des-O\", \"Emp-O\".  \n",
    "\n",
    "A continuación se realizará una exploración de los datos para conocer más en detalle la distribución de los datos en el tiempo."
   ]
  },
  {
   "cell_type": "code",
   "execution_count": 98,
   "id": "6ee93cdd",
   "metadata": {},
   "outputs": [
    {
     "data": {
      "text/html": [
       "<div>\n",
       "<style scoped>\n",
       "    .dataframe tbody tr th:only-of-type {\n",
       "        vertical-align: middle;\n",
       "    }\n",
       "\n",
       "    .dataframe tbody tr th {\n",
       "        vertical-align: top;\n",
       "    }\n",
       "\n",
       "    .dataframe thead th {\n",
       "        text-align: right;\n",
       "    }\n",
       "</style>\n",
       "<table border=\"1\" class=\"dataframe\">\n",
       "  <thead>\n",
       "    <tr style=\"text-align: right;\">\n",
       "      <th></th>\n",
       "      <th>Fecha-I</th>\n",
       "      <th>Vlo-I</th>\n",
       "      <th>Ori-I</th>\n",
       "      <th>Des-I</th>\n",
       "      <th>Emp-I</th>\n",
       "      <th>Fecha-O</th>\n",
       "      <th>Vlo-O</th>\n",
       "      <th>Ori-O</th>\n",
       "      <th>Des-O</th>\n",
       "      <th>Emp-O</th>\n",
       "      <th>DIA</th>\n",
       "      <th>MES</th>\n",
       "      <th>AÑO</th>\n",
       "      <th>DIANOM</th>\n",
       "      <th>TIPOVUELO</th>\n",
       "      <th>OPERA</th>\n",
       "      <th>SIGLAORI</th>\n",
       "      <th>SIGLADES</th>\n",
       "    </tr>\n",
       "    <tr>\n",
       "      <th>Fecha-O</th>\n",
       "      <th></th>\n",
       "      <th></th>\n",
       "      <th></th>\n",
       "      <th></th>\n",
       "      <th></th>\n",
       "      <th></th>\n",
       "      <th></th>\n",
       "      <th></th>\n",
       "      <th></th>\n",
       "      <th></th>\n",
       "      <th></th>\n",
       "      <th></th>\n",
       "      <th></th>\n",
       "      <th></th>\n",
       "      <th></th>\n",
       "      <th></th>\n",
       "      <th></th>\n",
       "      <th></th>\n",
       "    </tr>\n",
       "  </thead>\n",
       "  <tbody>\n",
       "    <tr>\n",
       "      <th>2017</th>\n",
       "      <td>68204</td>\n",
       "      <td>68204</td>\n",
       "      <td>68204</td>\n",
       "      <td>68204</td>\n",
       "      <td>68204</td>\n",
       "      <td>68204</td>\n",
       "      <td>68203</td>\n",
       "      <td>68204</td>\n",
       "      <td>68204</td>\n",
       "      <td>68204</td>\n",
       "      <td>68204</td>\n",
       "      <td>68204</td>\n",
       "      <td>68204</td>\n",
       "      <td>68204</td>\n",
       "      <td>68204</td>\n",
       "      <td>68204</td>\n",
       "      <td>68204</td>\n",
       "      <td>68204</td>\n",
       "    </tr>\n",
       "    <tr>\n",
       "      <th>2018</th>\n",
       "      <td>2</td>\n",
       "      <td>2</td>\n",
       "      <td>2</td>\n",
       "      <td>2</td>\n",
       "      <td>2</td>\n",
       "      <td>2</td>\n",
       "      <td>2</td>\n",
       "      <td>2</td>\n",
       "      <td>2</td>\n",
       "      <td>2</td>\n",
       "      <td>2</td>\n",
       "      <td>2</td>\n",
       "      <td>2</td>\n",
       "      <td>2</td>\n",
       "      <td>2</td>\n",
       "      <td>2</td>\n",
       "      <td>2</td>\n",
       "      <td>2</td>\n",
       "    </tr>\n",
       "  </tbody>\n",
       "</table>\n",
       "</div>"
      ],
      "text/plain": [
       "         Fecha-I  Vlo-I  Ori-I  Des-I  Emp-I  Fecha-O  Vlo-O  Ori-O  Des-O  \\\n",
       "Fecha-O                                                                      \n",
       "2017       68204  68204  68204  68204  68204    68204  68203  68204  68204   \n",
       "2018           2      2      2      2      2        2      2      2      2   \n",
       "\n",
       "         Emp-O    DIA    MES    AÑO  DIANOM  TIPOVUELO  OPERA  SIGLAORI  \\\n",
       "Fecha-O                                                                   \n",
       "2017     68204  68204  68204  68204   68204      68204  68204     68204   \n",
       "2018         2      2      2      2       2          2      2         2   \n",
       "\n",
       "         SIGLADES  \n",
       "Fecha-O            \n",
       "2017        68204  \n",
       "2018            2  "
      ]
     },
     "execution_count": 98,
     "metadata": {},
     "output_type": "execute_result"
    }
   ],
   "source": [
    "#Agrupa los vuelos por año\n",
    "latamDF.groupby(latamDF['Fecha-O'].dt.year).count()"
   ]
  },
  {
   "cell_type": "markdown",
   "id": "29e4413a",
   "metadata": {},
   "source": [
    "La gran mayoría de los vuelos incluidos en el dataset son del 2017, por lo cual el año será irrelevante para el análisis"
   ]
  },
  {
   "cell_type": "code",
   "execution_count": 99,
   "id": "4fa27da8",
   "metadata": {},
   "outputs": [
    {
     "data": {
      "text/html": [
       "<div>\n",
       "<style scoped>\n",
       "    .dataframe tbody tr th:only-of-type {\n",
       "        vertical-align: middle;\n",
       "    }\n",
       "\n",
       "    .dataframe tbody tr th {\n",
       "        vertical-align: top;\n",
       "    }\n",
       "\n",
       "    .dataframe thead th {\n",
       "        text-align: right;\n",
       "    }\n",
       "</style>\n",
       "<table border=\"1\" class=\"dataframe\">\n",
       "  <thead>\n",
       "    <tr style=\"text-align: right;\">\n",
       "      <th></th>\n",
       "      <th>Fecha-I</th>\n",
       "      <th>Vlo-I</th>\n",
       "      <th>Ori-I</th>\n",
       "      <th>Des-I</th>\n",
       "      <th>Emp-I</th>\n",
       "      <th>Fecha-O</th>\n",
       "      <th>Vlo-O</th>\n",
       "      <th>Ori-O</th>\n",
       "      <th>Des-O</th>\n",
       "      <th>Emp-O</th>\n",
       "      <th>DIA</th>\n",
       "      <th>MES</th>\n",
       "      <th>AÑO</th>\n",
       "      <th>DIANOM</th>\n",
       "      <th>TIPOVUELO</th>\n",
       "      <th>OPERA</th>\n",
       "      <th>SIGLAORI</th>\n",
       "      <th>SIGLADES</th>\n",
       "    </tr>\n",
       "  </thead>\n",
       "  <tbody>\n",
       "    <tr>\n",
       "      <th>66918</th>\n",
       "      <td>2017-12-31 23:55:00</td>\n",
       "      <td>602</td>\n",
       "      <td>SCEL</td>\n",
       "      <td>KLAX</td>\n",
       "      <td>LAN</td>\n",
       "      <td>2018-01-01 00:02:00</td>\n",
       "      <td>602.0</td>\n",
       "      <td>SCEL</td>\n",
       "      <td>KLAX</td>\n",
       "      <td>LAN</td>\n",
       "      <td>1</td>\n",
       "      <td>1</td>\n",
       "      <td>2018</td>\n",
       "      <td>Lunes</td>\n",
       "      <td>I</td>\n",
       "      <td>Grupo LATAM</td>\n",
       "      <td>Santiago</td>\n",
       "      <td>Los Angeles</td>\n",
       "    </tr>\n",
       "    <tr>\n",
       "      <th>66947</th>\n",
       "      <td>2017-12-31 23:40:00</td>\n",
       "      <td>622</td>\n",
       "      <td>SCEL</td>\n",
       "      <td>MMMX</td>\n",
       "      <td>LAN</td>\n",
       "      <td>2018-01-01 00:12:00</td>\n",
       "      <td>622.0</td>\n",
       "      <td>SCEL</td>\n",
       "      <td>MMMX</td>\n",
       "      <td>LAN</td>\n",
       "      <td>1</td>\n",
       "      <td>1</td>\n",
       "      <td>2018</td>\n",
       "      <td>Lunes</td>\n",
       "      <td>I</td>\n",
       "      <td>Grupo LATAM</td>\n",
       "      <td>Santiago</td>\n",
       "      <td>Ciudad de Mexico</td>\n",
       "    </tr>\n",
       "  </tbody>\n",
       "</table>\n",
       "</div>"
      ],
      "text/plain": [
       "                  Fecha-I Vlo-I Ori-I Des-I Emp-I             Fecha-O  Vlo-O  \\\n",
       "66918 2017-12-31 23:55:00   602  SCEL  KLAX   LAN 2018-01-01 00:02:00  602.0   \n",
       "66947 2017-12-31 23:40:00   622  SCEL  MMMX   LAN 2018-01-01 00:12:00  622.0   \n",
       "\n",
       "      Ori-O Des-O Emp-O  DIA  MES   AÑO DIANOM TIPOVUELO        OPERA  \\\n",
       "66918  SCEL  KLAX   LAN    1    1  2018  Lunes         I  Grupo LATAM   \n",
       "66947  SCEL  MMMX   LAN    1    1  2018  Lunes         I  Grupo LATAM   \n",
       "\n",
       "       SIGLAORI          SIGLADES  \n",
       "66918  Santiago       Los Angeles  \n",
       "66947  Santiago  Ciudad de Mexico  "
      ]
     },
     "execution_count": 99,
     "metadata": {},
     "output_type": "execute_result"
    }
   ],
   "source": [
    "#Muestra los 2 vuelos del 2018\n",
    "latamDF[latamDF['Fecha-O'].dt.year==2018]"
   ]
  },
  {
   "cell_type": "markdown",
   "id": "73d5d7dd",
   "metadata": {},
   "source": [
    "Los 2 vuelos operados en el 2018 fueron vuelos programados para el 31 de Diciembre del 2017 cercanos a la medianoche, y se retrasaron lo suficiente como para ser operados en el 2018."
   ]
  },
  {
   "cell_type": "code",
   "execution_count": 100,
   "id": "baf18d6c",
   "metadata": {},
   "outputs": [
    {
     "data": {
      "text/html": [
       "<div>\n",
       "<style scoped>\n",
       "    .dataframe tbody tr th:only-of-type {\n",
       "        vertical-align: middle;\n",
       "    }\n",
       "\n",
       "    .dataframe tbody tr th {\n",
       "        vertical-align: top;\n",
       "    }\n",
       "\n",
       "    .dataframe thead th {\n",
       "        text-align: right;\n",
       "    }\n",
       "</style>\n",
       "<table border=\"1\" class=\"dataframe\">\n",
       "  <thead>\n",
       "    <tr style=\"text-align: right;\">\n",
       "      <th></th>\n",
       "      <th>Vlo-I</th>\n",
       "      <th>Ori-I</th>\n",
       "      <th>Des-I</th>\n",
       "      <th>Emp-I</th>\n",
       "      <th>Fecha-O</th>\n",
       "      <th>Vlo-O</th>\n",
       "      <th>Ori-O</th>\n",
       "      <th>Des-O</th>\n",
       "      <th>Emp-O</th>\n",
       "      <th>DIA</th>\n",
       "      <th>MES</th>\n",
       "      <th>AÑO</th>\n",
       "      <th>DIANOM</th>\n",
       "      <th>TIPOVUELO</th>\n",
       "      <th>OPERA</th>\n",
       "      <th>SIGLAORI</th>\n",
       "      <th>SIGLADES</th>\n",
       "    </tr>\n",
       "    <tr>\n",
       "      <th>Fecha-I</th>\n",
       "      <th></th>\n",
       "      <th></th>\n",
       "      <th></th>\n",
       "      <th></th>\n",
       "      <th></th>\n",
       "      <th></th>\n",
       "      <th></th>\n",
       "      <th></th>\n",
       "      <th></th>\n",
       "      <th></th>\n",
       "      <th></th>\n",
       "      <th></th>\n",
       "      <th></th>\n",
       "      <th></th>\n",
       "      <th></th>\n",
       "      <th></th>\n",
       "      <th></th>\n",
       "    </tr>\n",
       "  </thead>\n",
       "  <tbody>\n",
       "    <tr>\n",
       "      <th>2017-01-01</th>\n",
       "      <td>170</td>\n",
       "      <td>170</td>\n",
       "      <td>170</td>\n",
       "      <td>170</td>\n",
       "      <td>170</td>\n",
       "      <td>170</td>\n",
       "      <td>170</td>\n",
       "      <td>170</td>\n",
       "      <td>170</td>\n",
       "      <td>170</td>\n",
       "      <td>170</td>\n",
       "      <td>170</td>\n",
       "      <td>170</td>\n",
       "      <td>170</td>\n",
       "      <td>170</td>\n",
       "      <td>170</td>\n",
       "      <td>170</td>\n",
       "    </tr>\n",
       "    <tr>\n",
       "      <th>2017-01-02</th>\n",
       "      <td>198</td>\n",
       "      <td>198</td>\n",
       "      <td>198</td>\n",
       "      <td>198</td>\n",
       "      <td>198</td>\n",
       "      <td>198</td>\n",
       "      <td>198</td>\n",
       "      <td>198</td>\n",
       "      <td>198</td>\n",
       "      <td>198</td>\n",
       "      <td>198</td>\n",
       "      <td>198</td>\n",
       "      <td>198</td>\n",
       "      <td>198</td>\n",
       "      <td>198</td>\n",
       "      <td>198</td>\n",
       "      <td>198</td>\n",
       "    </tr>\n",
       "    <tr>\n",
       "      <th>2017-01-03</th>\n",
       "      <td>195</td>\n",
       "      <td>195</td>\n",
       "      <td>195</td>\n",
       "      <td>195</td>\n",
       "      <td>195</td>\n",
       "      <td>195</td>\n",
       "      <td>195</td>\n",
       "      <td>195</td>\n",
       "      <td>195</td>\n",
       "      <td>195</td>\n",
       "      <td>195</td>\n",
       "      <td>195</td>\n",
       "      <td>195</td>\n",
       "      <td>195</td>\n",
       "      <td>195</td>\n",
       "      <td>195</td>\n",
       "      <td>195</td>\n",
       "    </tr>\n",
       "    <tr>\n",
       "      <th>2017-01-04</th>\n",
       "      <td>193</td>\n",
       "      <td>193</td>\n",
       "      <td>193</td>\n",
       "      <td>193</td>\n",
       "      <td>193</td>\n",
       "      <td>193</td>\n",
       "      <td>193</td>\n",
       "      <td>193</td>\n",
       "      <td>193</td>\n",
       "      <td>193</td>\n",
       "      <td>193</td>\n",
       "      <td>193</td>\n",
       "      <td>193</td>\n",
       "      <td>193</td>\n",
       "      <td>193</td>\n",
       "      <td>193</td>\n",
       "      <td>193</td>\n",
       "    </tr>\n",
       "    <tr>\n",
       "      <th>2017-01-05</th>\n",
       "      <td>196</td>\n",
       "      <td>196</td>\n",
       "      <td>196</td>\n",
       "      <td>196</td>\n",
       "      <td>196</td>\n",
       "      <td>196</td>\n",
       "      <td>196</td>\n",
       "      <td>196</td>\n",
       "      <td>196</td>\n",
       "      <td>196</td>\n",
       "      <td>196</td>\n",
       "      <td>196</td>\n",
       "      <td>196</td>\n",
       "      <td>196</td>\n",
       "      <td>196</td>\n",
       "      <td>196</td>\n",
       "      <td>196</td>\n",
       "    </tr>\n",
       "    <tr>\n",
       "      <th>...</th>\n",
       "      <td>...</td>\n",
       "      <td>...</td>\n",
       "      <td>...</td>\n",
       "      <td>...</td>\n",
       "      <td>...</td>\n",
       "      <td>...</td>\n",
       "      <td>...</td>\n",
       "      <td>...</td>\n",
       "      <td>...</td>\n",
       "      <td>...</td>\n",
       "      <td>...</td>\n",
       "      <td>...</td>\n",
       "      <td>...</td>\n",
       "      <td>...</td>\n",
       "      <td>...</td>\n",
       "      <td>...</td>\n",
       "      <td>...</td>\n",
       "    </tr>\n",
       "    <tr>\n",
       "      <th>2017-12-27</th>\n",
       "      <td>217</td>\n",
       "      <td>217</td>\n",
       "      <td>217</td>\n",
       "      <td>217</td>\n",
       "      <td>217</td>\n",
       "      <td>217</td>\n",
       "      <td>217</td>\n",
       "      <td>217</td>\n",
       "      <td>217</td>\n",
       "      <td>217</td>\n",
       "      <td>217</td>\n",
       "      <td>217</td>\n",
       "      <td>217</td>\n",
       "      <td>217</td>\n",
       "      <td>217</td>\n",
       "      <td>217</td>\n",
       "      <td>217</td>\n",
       "    </tr>\n",
       "    <tr>\n",
       "      <th>2017-12-28</th>\n",
       "      <td>213</td>\n",
       "      <td>213</td>\n",
       "      <td>213</td>\n",
       "      <td>213</td>\n",
       "      <td>213</td>\n",
       "      <td>213</td>\n",
       "      <td>213</td>\n",
       "      <td>213</td>\n",
       "      <td>213</td>\n",
       "      <td>213</td>\n",
       "      <td>213</td>\n",
       "      <td>213</td>\n",
       "      <td>213</td>\n",
       "      <td>213</td>\n",
       "      <td>213</td>\n",
       "      <td>213</td>\n",
       "      <td>213</td>\n",
       "    </tr>\n",
       "    <tr>\n",
       "      <th>2017-12-29</th>\n",
       "      <td>220</td>\n",
       "      <td>220</td>\n",
       "      <td>220</td>\n",
       "      <td>220</td>\n",
       "      <td>220</td>\n",
       "      <td>220</td>\n",
       "      <td>220</td>\n",
       "      <td>220</td>\n",
       "      <td>220</td>\n",
       "      <td>220</td>\n",
       "      <td>220</td>\n",
       "      <td>220</td>\n",
       "      <td>220</td>\n",
       "      <td>220</td>\n",
       "      <td>220</td>\n",
       "      <td>220</td>\n",
       "      <td>220</td>\n",
       "    </tr>\n",
       "    <tr>\n",
       "      <th>2017-12-30</th>\n",
       "      <td>173</td>\n",
       "      <td>173</td>\n",
       "      <td>173</td>\n",
       "      <td>173</td>\n",
       "      <td>173</td>\n",
       "      <td>173</td>\n",
       "      <td>173</td>\n",
       "      <td>173</td>\n",
       "      <td>173</td>\n",
       "      <td>173</td>\n",
       "      <td>173</td>\n",
       "      <td>173</td>\n",
       "      <td>173</td>\n",
       "      <td>173</td>\n",
       "      <td>173</td>\n",
       "      <td>173</td>\n",
       "      <td>173</td>\n",
       "    </tr>\n",
       "    <tr>\n",
       "      <th>2017-12-31</th>\n",
       "      <td>179</td>\n",
       "      <td>179</td>\n",
       "      <td>179</td>\n",
       "      <td>179</td>\n",
       "      <td>179</td>\n",
       "      <td>179</td>\n",
       "      <td>179</td>\n",
       "      <td>179</td>\n",
       "      <td>179</td>\n",
       "      <td>179</td>\n",
       "      <td>179</td>\n",
       "      <td>179</td>\n",
       "      <td>179</td>\n",
       "      <td>179</td>\n",
       "      <td>179</td>\n",
       "      <td>179</td>\n",
       "      <td>179</td>\n",
       "    </tr>\n",
       "  </tbody>\n",
       "</table>\n",
       "<p>365 rows × 17 columns</p>\n",
       "</div>"
      ],
      "text/plain": [
       "            Vlo-I  Ori-I  Des-I  Emp-I  Fecha-O  Vlo-O  Ori-O  Des-O  Emp-O  \\\n",
       "Fecha-I                                                                       \n",
       "2017-01-01    170    170    170    170      170    170    170    170    170   \n",
       "2017-01-02    198    198    198    198      198    198    198    198    198   \n",
       "2017-01-03    195    195    195    195      195    195    195    195    195   \n",
       "2017-01-04    193    193    193    193      193    193    193    193    193   \n",
       "2017-01-05    196    196    196    196      196    196    196    196    196   \n",
       "...           ...    ...    ...    ...      ...    ...    ...    ...    ...   \n",
       "2017-12-27    217    217    217    217      217    217    217    217    217   \n",
       "2017-12-28    213    213    213    213      213    213    213    213    213   \n",
       "2017-12-29    220    220    220    220      220    220    220    220    220   \n",
       "2017-12-30    173    173    173    173      173    173    173    173    173   \n",
       "2017-12-31    179    179    179    179      179    179    179    179    179   \n",
       "\n",
       "            DIA  MES  AÑO  DIANOM  TIPOVUELO  OPERA  SIGLAORI  SIGLADES  \n",
       "Fecha-I                                                                  \n",
       "2017-01-01  170  170  170     170        170    170       170       170  \n",
       "2017-01-02  198  198  198     198        198    198       198       198  \n",
       "2017-01-03  195  195  195     195        195    195       195       195  \n",
       "2017-01-04  193  193  193     193        193    193       193       193  \n",
       "2017-01-05  196  196  196     196        196    196       196       196  \n",
       "...         ...  ...  ...     ...        ...    ...       ...       ...  \n",
       "2017-12-27  217  217  217     217        217    217       217       217  \n",
       "2017-12-28  213  213  213     213        213    213       213       213  \n",
       "2017-12-29  220  220  220     220        220    220       220       220  \n",
       "2017-12-30  173  173  173     173        173    173       173       173  \n",
       "2017-12-31  179  179  179     179        179    179       179       179  \n",
       "\n",
       "[365 rows x 17 columns]"
      ]
     },
     "execution_count": 100,
     "metadata": {},
     "output_type": "execute_result"
    }
   ],
   "source": [
    "#Agrupa y muestra los vuelos por por mes y día\n",
    "latamDF.groupby(pd.Grouper(key='Fecha-I',freq='1D')).count()"
   ]
  },
  {
   "cell_type": "code",
   "execution_count": 101,
   "id": "a21690a6",
   "metadata": {},
   "outputs": [
    {
     "data": {
      "text/plain": [
       "<matplotlib.collections.PathCollection at 0x17204123fd0>"
      ]
     },
     "execution_count": 101,
     "metadata": {},
     "output_type": "execute_result"
    },
    {
     "data": {
      "image/png": "[encoded data removed]",
      "text/plain": [
       "<Figure size 432x288 with 1 Axes>"
      ]
     },
     "metadata": {
      "needs_background": "light"
     },
     "output_type": "display_data"
    }
   ],
   "source": [
    "#Grafica la distribución de los vuelos por mes y día\n",
    "countMD = latamDF.groupby(pd.Grouper(key='Fecha-I',freq='1D')).count()\n",
    "plt.scatter(countMD.index,countMD['Fecha-O'])"
   ]
  },
  {
   "cell_type": "markdown",
   "id": "73e28f07",
   "metadata": {},
   "source": [
    "Se nota un claro decrecimiento en el número de vuelos entre marzo y julio.  Desde julio, los vuelos incrementan constantemente hasta el final del año (aparentemente de manera lineal).  Enero y febrero también muestran un grán número de vuelos."
   ]
  },
  {
   "cell_type": "code",
   "execution_count": 102,
   "id": "8f201158",
   "metadata": {},
   "outputs": [
    {
     "data": {
      "image/png": "[encoded data removed]",
      "text/plain": [
       "<Figure size 432x288 with 1 Axes>"
      ]
     },
     "metadata": {
      "needs_background": "light"
     },
     "output_type": "display_data"
    }
   ],
   "source": [
    "#Revisa la distribución por los días de la semana\n",
    "#El ciclo for se utiliza para aislar los vuelos correspondientes a cada día de la semana\n",
    "#Y añadir 7 scatter plots a la misma gráfica\n",
    "weekD = latamDF.DIANOM.unique().tolist()\n",
    "for x in weekD:\n",
    "    latamDF_week = latamDF.loc[latamDF['DIANOM']==x]\n",
    "    countMD = latamDF_week.groupby(pd.Grouper(key='Fecha-I',freq='W')).count()\n",
    "    ax = plt.scatter(countMD.index,countMD['Fecha-O'],label=x)\n",
    "\n",
    "plt.legend();\n",
    "plt.show()"
   ]
  },
  {
   "cell_type": "markdown",
   "id": "4d8684ac",
   "metadata": {},
   "source": [
    "Se observa que los sabados tienen un menor número de vuelos de manera consistente, mientras los jueves y viernes tienden a ser los días con un mayor número de vuelos."
   ]
  },
  {
   "cell_type": "markdown",
   "id": "f623e87c",
   "metadata": {},
   "source": [
    "## Resumen pregunta 1\n",
    "Todos los vuelos incluidos en el dataset son del 2017, por lo cual el año será irrelevante para el análisis.  Existen 2 vuelos que fueron operados en el 2018, los cuales fueron programados para el 31 de Diciembre del 2017 cercanos a la medianoche, y se retrasaron lo suficiente como para ser operados el primero de enero del 2018.\n",
    "\n",
    "El número de vuelos entre marzo y julio es mucho menor que el resto del año.  Desde julio, los vuelos incrementan constantemente hasta el final del año (aparentemente de manera lineal).  Enero y febrero también muestran un grán número de vuelos.\n",
    "\n",
    "Los sabados tienen un menor número de vuelos de manera consistente a través del año, mientras los jueves y viernes tienden a ser los días con un mayor número de vuelos."
   ]
  },
  {
   "cell_type": "markdown",
   "id": "5c922062",
   "metadata": {},
   "source": [
    "# Pregunta 2\n",
    "## Genera las columnas adicionales y luego expórtelas en un archivo synthetic_features.csv "
   ]
  },
  {
   "cell_type": "code",
   "execution_count": 103,
   "id": "58f0640f",
   "metadata": {},
   "outputs": [],
   "source": [
    "#Temporada alta\n",
    "#Defino función que realiza la diferenciación entre temporada alta y temporada baja\n",
    "def temporada(row):  \n",
    "    if ((row['Fecha-I'] > pd.Timestamp(2017, 12, 15) or row['Fecha-I'] < pd.Timestamp(2017, 3, 3)) \n",
    "        or (row['Fecha-I'] > pd.Timestamp(2017, 9, 11) and row['Fecha-I'] < pd.Timestamp(2017, 9, 30))\n",
    "            or (row['Fecha-I'] > pd.Timestamp(2017, 7, 15) and row['Fecha-I'] < pd.Timestamp(2017, 7, 31))):\n",
    "        return 1\n",
    "    else:\n",
    "        return 0\n",
    "\n",
    "#Aplico la función a todo el dataframe original\n",
    "latamDF['temporada_alta']=latamDF.apply(lambda row: temporada(row),axis=1)\n"
   ]
  },
  {
   "cell_type": "code",
   "execution_count": 104,
   "id": "769229ac",
   "metadata": {},
   "outputs": [],
   "source": [
    "#dif_mim\n",
    "#Calcula la diferencia entre las fechas y luego la convierte a minutos\n",
    "latamDF['dif_min'] = (latamDF['Fecha-O'] - latamDF['Fecha-I'])\n",
    "latamDF['dif_min'] = latamDF['dif_min']/np.timedelta64(1,'m')"
   ]
  },
  {
   "cell_type": "code",
   "execution_count": 105,
   "id": "c2a6a97e",
   "metadata": {},
   "outputs": [],
   "source": [
    "#atraso_15\n",
    "#Defino función que realiza la diferenciación entre atraso o no\n",
    "def se_atraso(row):  \n",
    "    if row['dif_min'] > 15:\n",
    "        return 1\n",
    "    else:\n",
    "        return 0\n",
    "\n",
    "#Aplico la función a todo el dataframe\n",
    "latamDF['atraso_15']=latamDF.apply(lambda row: se_atraso(row),axis=1)"
   ]
  },
  {
   "cell_type": "code",
   "execution_count": 106,
   "id": "4ca65182",
   "metadata": {},
   "outputs": [],
   "source": [
    "#periodo_dia\n",
    "#Defino función que realiza la diferenciación entre las horas del día\n",
    "def periodo(row):  \n",
    "    if row['Fecha-I'].hour >= 5  and (row['Fecha-I'].hour <= 11 and  row['Fecha-I'].minute <= 59):\n",
    "        return 'mañana'\n",
    "    elif row['Fecha-I'].hour >= 12 and (row['Fecha-I'].hour <= 18 and  row['Fecha-I'].minute <= 59):\n",
    "        return 'tarde'\n",
    "    else:\n",
    "        return 'noche'\n",
    "\n",
    "#Aplico la función a todo el dataframe\n",
    "latamDF['periodo_dia']=latamDF.apply(lambda row: periodo(row),axis=1)   "
   ]
  },
  {
   "cell_type": "code",
   "execution_count": 107,
   "id": "67ee058b",
   "metadata": {},
   "outputs": [],
   "source": [
    "#Exporta el dataframe a .csv\n",
    "latamDF.to_csv('synthetic_features.csv')"
   ]
  },
  {
   "cell_type": "markdown",
   "id": "f2de9bce",
   "metadata": {},
   "source": [
    "# Pregunta 3\n",
    "## ¿Cómo se compone la tasa de atraso por destino, aerolínea, mes del año, día de la semana, temporada, tipo de vuelo? ¿Qué variables esperarías que más influyeran en predecir atrasos?"
   ]
  },
  {
   "cell_type": "code",
   "execution_count": 108,
   "id": "d3d3e430",
   "metadata": {},
   "outputs": [],
   "source": [
    "#Generaré dos dataframes, uno con los vuelos atrasados y otro con los vuelos a tiempo.  Esto permitirá \n",
    "#calcular las tasas de atraso respectiva\n",
    "latamDFatrasado = latamDF.loc[latamDF['atraso_15']==1]\n",
    "latamDFatiempo = latamDF.loc[latamDF['atraso_15']==0]"
   ]
  },
  {
   "cell_type": "markdown",
   "id": "d602b934",
   "metadata": {},
   "source": [
    "### Tasa de atraso por destino"
   ]
  },
  {
   "cell_type": "code",
   "execution_count": 109,
   "id": "4408358e",
   "metadata": {},
   "outputs": [],
   "source": [
    "#Tasa de atraso por destino\n",
    "\n",
    "#Cuenta los vuelos atrasados y los vuelos a tiempo, agrupados por destino\n",
    "destinoAtrasado = latamDFatrasado.groupby(['SIGLADES']).count().unstack(fill_value=0)['Fecha-I']\n",
    "destinoAtiempo = latamDFatiempo.groupby(['SIGLADES']).count().unstack(fill_value=0)['Fecha-I']\n",
    "\n",
    "destinoAtrasado = destinoAtrasado.sort_values(ascending=False)\n",
    "\n",
    "#Calcula la tasa de atraso por destino y las organiza de manera descendiente\n",
    "destino_tasa_atraso = destinoAtrasado/(destinoAtrasado + destinoAtiempo)\n",
    "destino_tasa_atraso = destino_tasa_atraso.sort_values(ascending=False)"
   ]
  },
  {
   "cell_type": "code",
   "execution_count": 111,
   "id": "669192b9",
   "metadata": {},
   "outputs": [
    {
     "data": {
      "text/plain": [
       "<AxesSubplot:title={'center':'Tasa de atraso por destino'}, xlabel='SIGLADES'>"
      ]
     },
     "execution_count": 111,
     "metadata": {},
     "output_type": "execute_result"
    },
    {
     "data": {
      "image/png": "[encoded data removed]",
      "text/plain": [
       "<Figure size 1080x360 with 1 Axes>"
      ]
     },
     "metadata": {
      "needs_background": "light"
     },
     "output_type": "display_data"
    }
   ],
   "source": [
    "#Gráfica de la tasa de atraso por destino\n",
    "destino_tasa_atraso.plot.bar(figsize=(15,5), title = 'Tasa de atraso por destino')"
   ]
  },
  {
   "cell_type": "markdown",
   "id": "40e00d25",
   "metadata": {},
   "source": [
    "Se observa que Ushuia tiene una tasa de retraso de casi 70%, seguido de Sydney, Melbourne, y Bariloche con tasas entre 50% y 60%.  Los destinos con menor tasa de retrasos son Ciudad de Panamá, Atlanta y Houston, con tasas menores al 10%.  \n",
    "\n",
    "Los casos especiales de Cataratas de Iguacu, Cochabamba, Curitiba. Bra, Pisco Peru, Puerto Stanley, Quito, y Washington no muestran un dato válido. Este es debido a un número muy reducido de vuelos con todos siendo a tiempo o retrasados.\n",
    "\n",
    "Cochabamba, Pisco Peru, Puerto Stanley, Quito todos los vuelos estuvieron retrasados.\n",
    "Cataratas de Iguacu,  Curitiba. Bra, Washington todos los vuelos estuvieron a tiempo."
   ]
  },
  {
   "cell_type": "markdown",
   "id": "0b30b7e5",
   "metadata": {},
   "source": [
    "### Tasa de atraso por aerolinea"
   ]
  },
  {
   "cell_type": "code",
   "execution_count": 112,
   "id": "d9e46600",
   "metadata": {},
   "outputs": [],
   "source": [
    "#Tasa de atraso por aerolinea\n",
    "\n",
    "#Cuenta los vuelos atrasados y los vuelos a tiempo, agrupados por aerolinea\n",
    "aerolineaAtrasado = latamDFatrasado.groupby(['OPERA']).count().unstack(fill_value=0)['Fecha-I']\n",
    "aerolineaAtiempo = latamDFatiempo.groupby(['OPERA']).count().unstack(fill_value=0)['Fecha-I']\n",
    "\n",
    "#Calcula la tasa de atraso por aerolinea y las organiza de manera descendiente\n",
    "aerolinea_tasa_atraso = aerolineaAtrasado/(aerolineaAtrasado + aerolineaAtiempo)\n",
    "aerolinea_tasa_atraso = aerolinea_tasa_atraso.sort_values(ascending=False)"
   ]
  },
  {
   "cell_type": "code",
   "execution_count": 113,
   "id": "bd934deb",
   "metadata": {},
   "outputs": [
    {
     "data": {
      "text/plain": [
       "<AxesSubplot:title={'center':'Tasa de atraso por aerolinea'}, xlabel='OPERA'>"
      ]
     },
     "execution_count": 113,
     "metadata": {},
     "output_type": "execute_result"
    },
    {
     "data": {
      "image/png": "[encoded data removed]",
      "text/plain": [
       "<Figure size 1080x360 with 1 Axes>"
      ]
     },
     "metadata": {
      "needs_background": "light"
     },
     "output_type": "display_data"
    }
   ],
   "source": [
    "#Gráfica de la tasa de atraso por aerolinea\n",
    "aerolinea_tasa_atraso.plot.bar(figsize=(15,5), title = 'Tasa de atraso por aerolinea')"
   ]
  },
  {
   "cell_type": "markdown",
   "id": "251ab32b",
   "metadata": {},
   "source": [
    "Se observa que Plus Ultra Lineas Aereas tiene una tasa de retraso de más de 60%, seguido de Qantas Airways, Air Canada, y Latin American Wings con tasas entre 40% y 60%.  Las aerolineas con menor tasa de retrasos son Delta Air, United Airlines y Aeromexico, con tasas menores al 10%.  "
   ]
  },
  {
   "cell_type": "markdown",
   "id": "4f2aa63c",
   "metadata": {},
   "source": [
    "### Tasa de atraso por mes"
   ]
  },
  {
   "cell_type": "code",
   "execution_count": 114,
   "id": "587ae01d",
   "metadata": {},
   "outputs": [],
   "source": [
    "#Tasa de atraso por mes\n",
    "\n",
    "#Cuenta los vuelos atrasados y los vuelos a tiempo, agrupados por mes\n",
    "mesAtrasado = latamDFatrasado.groupby(['MES']).count().unstack(fill_value=0)['Fecha-I']\n",
    "mesAtiempo = latamDFatiempo.groupby(['MES']).count().unstack(fill_value=0)['Fecha-I']\n",
    "\n",
    "#Calcula la tasa de atraso por mes y las organiza de manera descendiente\n",
    "mes_tasa_atraso = mesAtrasado/(mesAtrasado + mesAtiempo)\n",
    "mes_tasa_atraso = mes_tasa_atraso.sort_values(ascending=False)"
   ]
  },
  {
   "cell_type": "code",
   "execution_count": 115,
   "id": "dff50c2f",
   "metadata": {},
   "outputs": [
    {
     "data": {
      "text/plain": [
       "<AxesSubplot:title={'center':'Tasa de atraso por mes'}, xlabel='MES'>"
      ]
     },
     "execution_count": 115,
     "metadata": {},
     "output_type": "execute_result"
    },
    {
     "data": {
      "image/png": "[encoded data removed]",
      "text/plain": [
       "<Figure size 1080x360 with 1 Axes>"
      ]
     },
     "metadata": {
      "needs_background": "light"
     },
     "output_type": "display_data"
    }
   ],
   "source": [
    "#Gráfica de la tasa de atraso por mes\n",
    "mes_tasa_atraso.plot.bar(figsize=(15,5), title = 'Tasa de atraso por mes')"
   ]
  },
  {
   "cell_type": "markdown",
   "id": "f3b08cb2",
   "metadata": {},
   "source": [
    "Se observa que Julio y Diciembre tienen las mayores tasas de retraso, mientras marzo y abril tienen las menores.  Esto puede estar relacionada a periodos de temporada alta y temporada baja, respectivamente."
   ]
  },
  {
   "cell_type": "markdown",
   "id": "e60e34b6",
   "metadata": {},
   "source": [
    "### Tasa de atraso por día de la semana"
   ]
  },
  {
   "cell_type": "code",
   "execution_count": 116,
   "id": "c19378e8",
   "metadata": {},
   "outputs": [],
   "source": [
    "#Tasa de atraso por día de la semana\n",
    "\n",
    "#Cuenta los vuelos atrasados y los vuelos a tiempo, agrupados por dia de la semana\n",
    "dSemanaAtrasado = latamDFatrasado.groupby(['DIANOM']).count().unstack(fill_value=0)['Fecha-I']\n",
    "dSemanaAtiempo = latamDFatiempo.groupby(['DIANOM']).count().unstack(fill_value=0)['Fecha-I']\n",
    "\n",
    "#Calcula la tasa de atraso por dia de la semana y las organiza de manera descendiente\n",
    "dSemana_tasa_atraso = dSemanaAtrasado/(dSemanaAtrasado + dSemanaAtiempo)\n",
    "dSemana_tasa_atraso = dSemana_tasa_atraso.sort_values(ascending=False)"
   ]
  },
  {
   "cell_type": "code",
   "execution_count": 117,
   "id": "40b479d4",
   "metadata": {},
   "outputs": [
    {
     "data": {
      "text/plain": [
       "<AxesSubplot:title={'center':'Tasa de atraso por dia de la semana'}, xlabel='DIANOM'>"
      ]
     },
     "execution_count": 117,
     "metadata": {},
     "output_type": "execute_result"
    },
    {
     "data": {
      "image/png": "[encoded data removed]",
      "text/plain": [
       "<Figure size 1080x360 with 1 Axes>"
      ]
     },
     "metadata": {
      "needs_background": "light"
     },
     "output_type": "display_data"
    }
   ],
   "source": [
    "#Gráfica de la tasa de atraso por dia de la semana\n",
    "dSemana_tasa_atraso.plot.bar(figsize=(15,5), title = 'Tasa de atraso por dia de la semana')"
   ]
  },
  {
   "cell_type": "markdown",
   "id": "92734743",
   "metadata": {},
   "source": [
    "Se observa que los viernes, lunes y jueves tienen las mayores tasas de retraso, y los sabados y domingos tienen las menores. Esto esta directamente relacionado con el número de vuelos en cada uno de estos días."
   ]
  },
  {
   "cell_type": "markdown",
   "id": "ef6965f3",
   "metadata": {},
   "source": [
    "### Tasa de atraso por temporada"
   ]
  },
  {
   "cell_type": "code",
   "execution_count": 118,
   "id": "6ff3a9f3",
   "metadata": {},
   "outputs": [],
   "source": [
    "#Tasa de atraso por temporada\n",
    "\n",
    "#Cuenta los vuelos atrasados y los vuelos a tiempo, agrupados por temporada\n",
    "temporadaAtrasado = latamDFatrasado.groupby(['temporada_alta']).count().unstack(fill_value=0)['Fecha-I']\n",
    "temporadaAtiempo = latamDFatiempo.groupby(['temporada_alta']).count().unstack(fill_value=0)['Fecha-I']\n",
    "\n",
    "#Calcula la tasa de atraso por temporada y las organiza de manera descendiente\n",
    "temporada_tasa_atraso = temporadaAtrasado/(temporadaAtrasado + temporadaAtiempo)\n",
    "temporada_tasa_atraso = temporada_tasa_atraso.sort_values(ascending=False)"
   ]
  },
  {
   "cell_type": "code",
   "execution_count": 119,
   "id": "a954b373",
   "metadata": {},
   "outputs": [
    {
     "data": {
      "text/plain": [
       "<AxesSubplot:title={'center':'Tasa de atraso por temporada'}, xlabel='temporada_alta'>"
      ]
     },
     "execution_count": 119,
     "metadata": {},
     "output_type": "execute_result"
    },
    {
     "data": {
      "image/png": "[encoded data removed]",
      "text/plain": [
       "<Figure size 1080x360 with 1 Axes>"
      ]
     },
     "metadata": {
      "needs_background": "light"
     },
     "output_type": "display_data"
    }
   ],
   "source": [
    "#Gráfica de la tasa de atraso por temporada. 1 = temporada alta, 0 = temporada baja.\n",
    "temporada_tasa_atraso.plot.bar(figsize=(15,5), title = 'Tasa de atraso por temporada')"
   ]
  },
  {
   "cell_type": "markdown",
   "id": "60c29d78",
   "metadata": {},
   "source": [
    "Se observa que los vuelos en temporada alta tienen una tasa de retraso ligeramente mayor a los vuelos en temporada baja."
   ]
  },
  {
   "cell_type": "markdown",
   "id": "94721478",
   "metadata": {},
   "source": [
    "### Tasa de atraso por tipo de vuelo"
   ]
  },
  {
   "cell_type": "code",
   "execution_count": 120,
   "id": "1c02e133",
   "metadata": {},
   "outputs": [],
   "source": [
    "#Tasa de atraso por tipo de vuelo\n",
    "\n",
    "#Cuenta los vuelos atrasados y los vuelos a tiempo, agrupados por tipo de vuelo\n",
    "tVueloAtrasado = latamDFatrasado.groupby(['TIPOVUELO']).count().unstack(fill_value=0)['Fecha-I']\n",
    "tVueloAtiempo = latamDFatiempo.groupby(['TIPOVUELO']).count().unstack(fill_value=0)['Fecha-I']\n",
    "\n",
    "#Calcula la tasa de atraso por tipo de vuelo y las organiza de manera descendiente\n",
    "tVuelo_tasa_atraso = tVueloAtrasado/(tVueloAtrasado + tVueloAtiempo)\n",
    "tVuelo_tasa_atraso = tVuelo_tasa_atraso.sort_values(ascending=False)"
   ]
  },
  {
   "cell_type": "code",
   "execution_count": 122,
   "id": "0140ae65",
   "metadata": {},
   "outputs": [
    {
     "data": {
      "text/plain": [
       "<AxesSubplot:title={'center':'Tasa de atraso por tipo de vuelo'}, xlabel='TIPOVUELO'>"
      ]
     },
     "execution_count": 122,
     "metadata": {},
     "output_type": "execute_result"
    },
    {
     "data": {
      "image/png": "[encoded data removed]",
      "text/plain": [
       "<Figure size 1080x360 with 1 Axes>"
      ]
     },
     "metadata": {
      "needs_background": "light"
     },
     "output_type": "display_data"
    }
   ],
   "source": [
    "##Gráfica de la tasa de atraso por tipo de vuelo. I=internacional, N=nacional.\n",
    "tVuelo_tasa_atraso.plot.bar(figsize=(15,5), title = 'Tasa de atraso por tipo de vuelo')"
   ]
  },
  {
   "cell_type": "markdown",
   "id": "ab11cb9b",
   "metadata": {},
   "source": [
    "Se observa que los vuelos internacionles tiene casi una tasa de retraso casi 10% mayor que los vuelos nacionales."
   ]
  },
  {
   "cell_type": "markdown",
   "id": "a491c126",
   "metadata": {},
   "source": [
    "### ¿Qué variables esperarías que más influyeran en predecir atrasos? \n",
    "El destino y la aerolinea son las variables que yo espero tengan mayor influencia en predecir los atrasos, seguidas de mes, día de la semana, y tipo de vuelo.  Temporada puede tener un efecto mínimo en la predicción."
   ]
  },
  {
   "cell_type": "markdown",
   "id": "50e03c22",
   "metadata": {},
   "source": [
    "# Pregunta 4\n",
    "## Entrena uno o varios modelos (usando el/los algoritmo(s) que prefieras) para estimar la probabilidad de atraso de un vuelo. Siéntete libre de generar variables adicionales y/o complementar con variables externas."
   ]
  },
  {
   "cell_type": "markdown",
   "id": "4c69115c",
   "metadata": {},
   "source": [
    "En primer lugar, se realizará el análisis de las tasas de retraso respecto a la hora de salida para saber si esta variable afecta los resultados."
   ]
  },
  {
   "cell_type": "code",
   "execution_count": 123,
   "id": "d2d72086",
   "metadata": {},
   "outputs": [],
   "source": [
    "#Tasa de atraso por periodo del día en que el vuelo salio\n",
    "\n",
    "#Cuenta los vuelos atrasados y los vuelos a tiempo, agrupados por periodo de salida\n",
    "hSalidaAtrasado = latamDFatrasado.groupby(['periodo_dia']).count().unstack(fill_value=0)['Fecha-I']\n",
    "hSalidaAtiempo = latamDFatiempo.groupby(['periodo_dia']).count().unstack(fill_value=0)['Fecha-I']\n",
    "\n",
    "#Calcula la tasa de atraso por periodo de salida y las organiza de manera descendiente\n",
    "hSalida_tasa_atraso = hSalidaAtrasado/(hSalidaAtrasado + hSalidaAtiempo)\n",
    "hSalida_tasa_atraso = hSalida_tasa_atraso.sort_values(ascending=False)"
   ]
  },
  {
   "cell_type": "code",
   "execution_count": 124,
   "id": "e2093eeb",
   "metadata": {},
   "outputs": [
    {
     "data": {
      "text/plain": [
       "<AxesSubplot:title={'center':'Tasa de atraso por periodo del dia'}, xlabel='periodo_dia'>"
      ]
     },
     "execution_count": 124,
     "metadata": {},
     "output_type": "execute_result"
    },
    {
     "data": {
      "image/png": "[encoded data removed]",
      "text/plain": [
       "<Figure size 1080x360 with 1 Axes>"
      ]
     },
     "metadata": {
      "needs_background": "light"
     },
     "output_type": "display_data"
    }
   ],
   "source": [
    "hSalida_tasa_atraso.plot.bar(figsize=(15,5), title = 'Tasa de atraso por periodo del dia')"
   ]
  },
  {
   "cell_type": "markdown",
   "id": "0784427c",
   "metadata": {},
   "source": [
    "Se observa que los vuelos en la mañana tiene una tasa de atraso menor a los vuelos de la tarde y de la noche.  Esto dos (noche y dia) no tiene gran diferencia en sus tasas de atraso.  Generaré una nueva columna que diferencia vuelos de la mañana con vuelos de la tarde/noche para tomar como variable de entrada para el modelo."
   ]
  },
  {
   "cell_type": "code",
   "execution_count": 125,
   "id": "0d6ea81c",
   "metadata": {},
   "outputs": [],
   "source": [
    "#Genera la nueva columna periodo_mañana\n",
    "#Defino función que realiza la diferenciación entre atraso o no\n",
    "def se_atraso(row):  \n",
    "    if row['periodo_dia'] == 'mañana':\n",
    "        return 1\n",
    "    else:\n",
    "        return 0\n",
    "\n",
    "#Aplico la función a todo el dataframe\n",
    "latamDF['periodo_mañana']=latamDF.apply(lambda row: se_atraso(row),axis=1)"
   ]
  },
  {
   "cell_type": "markdown",
   "id": "14846157",
   "metadata": {},
   "source": [
    "También se debe convertir la columna 'TIPOVUELO' a datos numéricos."
   ]
  },
  {
   "cell_type": "code",
   "execution_count": 126,
   "id": "31252276",
   "metadata": {},
   "outputs": [],
   "source": [
    "#Genera una nueva columna numerica para el tipo de vuelo\n",
    "#Defino función que realiza la diferenciación entre atraso o no\n",
    "def vuelo_inter(row):  \n",
    "    if row['TIPOVUELO'] == 'I':\n",
    "        return 1\n",
    "    else:\n",
    "        return 0\n",
    "\n",
    "#Aplico la función a todo el dataframe\n",
    "latamDF['vuelo_int']=latamDF.apply(lambda row: vuelo_inter(row),axis=1)"
   ]
  },
  {
   "cell_type": "markdown",
   "id": "58a3e30f",
   "metadata": {},
   "source": [
    "Antes de entrenar el modelo, es necesario mapear las variable de tipo texto como variables numéricas. Se utilizará encoding categórico no normalizado ya que fue el que mejores resultados produjo (se probaron one-hot encoding, y encoding categorico normalizado). Primero se aplica un filtrado para eliminar los outliers en el número de vuelos diarios retrasados."
   ]
  },
  {
   "cell_type": "code",
   "execution_count": 127,
   "id": "5ec3dc11",
   "metadata": {},
   "outputs": [],
   "source": [
    "#Se cuentan la cantidad de vuelos atrasados por dia\n",
    "latamDF_atrasado = latamDF.loc[latamDF['atraso_15']==1]\n",
    "countMD_atrasado = latamDF_atrasado.groupby(pd.Grouper(key='Fecha-I',freq='1D')).count()['Vlo-I']\n",
    "\n",
    "#Se seleccionan solo los días con mas de 85 vuelos retrasados\n",
    "countMD_atrasado = countMD_atrasado.to_frame()\n",
    "countMD_atrasado_outliers = countMD_atrasado.loc[countMD_atrasado['Vlo-I']>85]\n",
    "\n",
    "#Se seleccionan los datos de los vuelos que no estuvieron programados en días con mas de 80 vuelos retrasados\n",
    "latamDF_no_outliers = latamDF.loc[latamDF['Fecha-I'].apply(lambda x: x.strftime('%Y-%m-%d') \n",
    "                                                           not in countMD_atrasado_outliers.index.strftime('%Y-%m-%d').to_list() )]"
   ]
  },
  {
   "cell_type": "markdown",
   "id": "c5ff57dd",
   "metadata": {},
   "source": [
    "También se filtran los destinos especiales que tienen muy pocos vuelos, todos a tiempo o atrasados. Cataratas de Iguacu, Cochabamba, Curitiba. Bra, Pisco Peru, Puerto Stanley, Quito, y Washington"
   ]
  },
  {
   "cell_type": "code",
   "execution_count": 128,
   "id": "f5c46f78",
   "metadata": {},
   "outputs": [],
   "source": [
    "#Lista con los códigos de los destinos especiales\n",
    "destinos_especiales =['SBFI','SLCB','SBCT','SPSO','EGYP','SEQM','KIAD']\n",
    "\n",
    "#Ciclo que elimina todos los datos que tienen un destino especial\n",
    "for x in destinos_especiales:\n",
    "    latamDF_no_outliers = latamDF_no_outliers[latamDF_no_outliers['Des-I']!=x]"
   ]
  },
  {
   "cell_type": "code",
   "execution_count": 129,
   "id": "7c47923c",
   "metadata": {},
   "outputs": [],
   "source": [
    "#Genero el dataframe con las variable de entrada que ya son numéricas. Periodo mañana.\n",
    "X = latamDF_no_outliers[['periodo_mañana']]\n",
    "#Utilizo la columna atraso_15 como los datos de salida\n",
    "y = latamDF_no_outliers['atraso_15']"
   ]
  },
  {
   "cell_type": "code",
   "execution_count": 130,
   "id": "091b1494",
   "metadata": {},
   "outputs": [
    {
     "name": "stderr",
     "output_type": "stream",
     "text": [
      "C:\\Users\\an2fe\\AppData\\Local\\Temp/ipykernel_17432/1418292949.py:5: SettingWithCopyWarning: \n",
      "A value is trying to be set on a copy of a slice from a DataFrame.\n",
      "Try using .loc[row_indexer,col_indexer] = value instead\n",
      "\n",
      "See the caveats in the documentation: https://pandas.pydata.org/pandas-docs/stable/user_guide/indexing.html#returning-a-view-versus-a-copy\n",
      "  X['Des-I'] = Xaux\n",
      "C:\\Users\\an2fe\\AppData\\Local\\Temp/ipykernel_17432/1418292949.py:10: SettingWithCopyWarning: \n",
      "A value is trying to be set on a copy of a slice from a DataFrame.\n",
      "Try using .loc[row_indexer,col_indexer] = value instead\n",
      "\n",
      "See the caveats in the documentation: https://pandas.pydata.org/pandas-docs/stable/user_guide/indexing.html#returning-a-view-versus-a-copy\n",
      "  X['Emp-I'] = Xaux\n",
      "C:\\Users\\an2fe\\AppData\\Local\\Temp/ipykernel_17432/1418292949.py:14: SettingWithCopyWarning: \n",
      "A value is trying to be set on a copy of a slice from a DataFrame.\n",
      "Try using .loc[row_indexer,col_indexer] = value instead\n",
      "\n",
      "See the caveats in the documentation: https://pandas.pydata.org/pandas-docs/stable/user_guide/indexing.html#returning-a-view-versus-a-copy\n",
      "  X['DIANOM'] = Xaux\n"
     ]
    }
   ],
   "source": [
    "#Se aplica encoding categorico a las variables de tipo texto  \n",
    "\n",
    "#Ciudad de destino\n",
    "Xaux = latamDF_no_outliers['Des-I'].astype('category').cat.codes\n",
    "X['Des-I'] = Xaux\n",
    "#X = Xaux\n",
    "\n",
    "#Aerolinea\n",
    "Xaux = latamDF_no_outliers['Emp-I'].astype('category').cat.codes\n",
    "X['Emp-I'] = Xaux\n",
    "\n",
    "#Dia de la semana\n",
    "Xaux = latamDF_no_outliers['DIANOM'].astype('category').cat.codes\n",
    "X['DIANOM'] = Xaux"
   ]
  },
  {
   "cell_type": "code",
   "execution_count": 131,
   "id": "429edeb6",
   "metadata": {},
   "outputs": [],
   "source": [
    "#Importa el clasificador, y la librería que permitirá realizar el train/test split de los datos disponibles,\n",
    "#y evaluar el modelo por medio de la matriz de confusión\n",
    "from sklearn.model_selection import train_test_split\n",
    "from sklearn.metrics import confusion_matrix, ConfusionMatrixDisplay"
   ]
  },
  {
   "cell_type": "markdown",
   "id": "92d5b8b8",
   "metadata": {},
   "source": [
    "Se utiliza el clasificador Histogram Gradient Boosting, ya que fue el que produjo mejores resultados"
   ]
  },
  {
   "cell_type": "code",
   "execution_count": 132,
   "id": "b6501b8f",
   "metadata": {},
   "outputs": [],
   "source": [
    "# Min max normalization.  Normalization data is saved to be reused after the algorithm is trained.\n",
    "sc = MinMaxScaler()\n",
    "X = sc.fit_transform(X)\n",
    "\n",
    "#Split estratificado 80-20 entre datos de entreanmiento y de testeo\n",
    "X_train, X_test, y_train, y_test = train_test_split(X, y, test_size=0.2) \n",
    "\n",
    "from sklearn.ensemble import HistGradientBoostingClassifier\n",
    "mdl = HistGradientBoostingClassifier(max_iter=200,max_leaf_nodes=20,min_samples_leaf=50\n",
    "                                       ,validation_fraction=None,tol=1e-12)"
   ]
  },
  {
   "cell_type": "code",
   "execution_count": 133,
   "id": "a6f78ec6",
   "metadata": {},
   "outputs": [],
   "source": [
    "#Undersampling aleatorio de la clase mayoritaria (vuelos a tiempo)\n",
    "#Oversampling de la clase minoritaria (vuelos retrasados) utilizando la técnica SMOTE\n",
    "\n",
    "from imblearn.over_sampling import SMOTE\n",
    "from imblearn.under_sampling import RandomUnderSampler\n",
    "from imblearn.pipeline import Pipeline\n",
    "\n",
    "over_mdl = SMOTE(sampling_strategy='not majority')\n",
    "under_mdl = RandomUnderSampler(sampling_strategy='majority')\n",
    "steps_mdl = [('over', over_mdl), ('under', under_mdl), ('model', mdl)]\n",
    "pipeline_mdl = Pipeline(steps=steps_mdl)"
   ]
  },
  {
   "cell_type": "code",
   "execution_count": 134,
   "id": "a5a61140",
   "metadata": {
    "scrolled": true
   },
   "outputs": [
    {
     "data": {
      "text/plain": [
       "Pipeline(steps=[('over', SMOTE(sampling_strategy='not majority')),\n",
       "                ('under', RandomUnderSampler(sampling_strategy='majority')),\n",
       "                ('model',\n",
       "                 HistGradientBoostingClassifier(max_iter=200, max_leaf_nodes=20,\n",
       "                                                min_samples_leaf=50, tol=1e-12,\n",
       "                                                validation_fraction=None))])"
      ]
     },
     "execution_count": 134,
     "metadata": {},
     "output_type": "execute_result"
    }
   ],
   "source": [
    "#Entrena el random forest\n",
    "pipeline_mdl.fit(X_train,y_train)"
   ]
  },
  {
   "cell_type": "markdown",
   "id": "4a19c205",
   "metadata": {},
   "source": [
    "# Pregunta 5\n",
    "## Evalúa tu modelo. ¿Qué performance tiene? ¿Qué métricas usaste para evaluar esa performance y por qué? ¿Por qué elegiste ese algoritmo en particular? ¿Qué variables son las que más influyen en la predicción? ¿Cómo podrías mejorar la performance?"
   ]
  },
  {
   "cell_type": "code",
   "execution_count": 135,
   "id": "0827c62b",
   "metadata": {},
   "outputs": [
    {
     "data": {
      "image/png": "[encoded data removed]",
      "text/plain": [
       "<Figure size 432x288 with 2 Axes>"
      ]
     },
     "metadata": {
      "needs_background": "light"
     },
     "output_type": "display_data"
    },
    {
     "name": "stdout",
     "output_type": "stream",
     "text": [
      "Precision A tiempo:\n",
      " 0.6295655342016577\n",
      "Precision demorado:\n",
      " 0.608355091383812\n",
      "Positivos verdaderos A tiempo:\n",
      " 0.8847926267281107\n",
      "Positivos verdaderos demorados:\n",
      " 0.25580969807868253\n"
     ]
    }
   ],
   "source": [
    "#Predicts and shows score predictions\n",
    "y_pred=pipeline_mdl.predict(X_test)\n",
    "    \n",
    "CM1 = confusion_matrix(y_test, y_pred)\n",
    "    \n",
    "disp = ConfusionMatrixDisplay(confusion_matrix=CM1,display_labels=mdl.classes_)\n",
    "disp.plot()\n",
    "plt.show()\n",
    "\n",
    "print('Precision A tiempo:\\n',(CM1[0,0]/(CM1[0,0]+CM1[0,1])))\n",
    "print('Precision demorado:\\n',(CM1[1,1]/(CM1[1,0]+CM1[1,1])))\n",
    "    \n",
    "print('Positivos verdaderos A tiempo:\\n',(CM1[0,0]/(CM1[0,0]+CM1[1,0])))\n",
    "print('Positivos verdaderos demorados:\\n',(CM1[1,1]/(CM1[0,1]+CM1[1,1])))"
   ]
  },
  {
   "cell_type": "markdown",
   "id": "8e6300b0",
   "metadata": {},
   "source": [
    "## Performance del modelo y pasos seguidos para mejorar\n",
    "## Nota: Se realizo una limpieza en la versión final del notebook. Sin embargo se pueden observar todos los tests realizados en el historial de git.\n",
    "\n",
    "La primera versión del modelo de random forest no tiene un buen performance, Precision A tiempo: 0.7394043012687843, Precision demorado:  0.4586793198892843, Positivos verdaderos A tiempo: 0.8571875651992489, Positivos verdaderos demorados: 0.2859960552268245.\n",
    "\n",
    "La primera acción a tomar para mejorar el performance será balancear los datos, ya que hay muchos mas datos de vuelos a tiempo que de vuelos demorados, lo cual tiende a influenciar el modelo. Luego de balancear los datos, solo se observaron mejoras menores (3%) en la presición de la predicción de los vuelos demoreados. Precision A tiempo:  0.7210658532208865 Precision  Demorado:  0.48717948717948717 Positivos verdaderos A tiempo: 0.8626167221208544 Positivos verdaderos demorados: 0.2811560693641619\n",
    "\n",
    "La siguiente acción será cambiar diferentes parámetros del modelo. Para comparación, la configuración original del modelo es rfc=RandomForestClassifier(n_estimators=100,n_jobs=-1,max_features=None,criterion='entropy',oob_score=True,class_weight='balanced_subsample')\n",
    "\n",
    "- n_estimators=500.  Considerable incremento en el tiempo de entrenamiento sin un aumento significativo del performance.\n",
    "- criterion='gini'. El performance decrece de manera menor (46% para la predicción de los vuelos retrasados)\n",
    "- max_features='auto'. No diferencia\n",
    "- oob_score=False (opción por defecto).  Baja 3%\n",
    "- bootstrap=False. Baja 3%\n",
    "- class_weight=None (opción por defecto). Baja 2%\n",
    "\n",
    "No hay mejoras considerables respecto a la versión balanceada del modelo."
   ]
  },
  {
   "cell_type": "markdown",
   "id": "fc5356f1",
   "metadata": {},
   "source": [
    "La siguiente acción a tomar será limitar las variables utilizadas para la predicción.\n",
    "\n",
    "- Inicialmente se utilizan solo las dos de mayor impacto (Ciudad de destino y aerolinea).  Se obtuvo una mejora de 5% en la precisión de los retrasados, pero baja la precisión de los vuelos a tiempo. Precision A tiempo: 0.6531055058312991 Precision demorado: 0.5455249903138318 Positivos verdaderos A tiempo: 0.8603072525902108 Positivos verdaderos demorados:  0.2684461391801716\n",
    "\n",
    "- Ciudad de destino, aerolinea y tipo de vuelo: No hay mejora\n",
    "\n",
    "- Ciudad de destino, aerolinea y dia de la semana: Sube precisión demorado, baja precisión a tiempo. Precision A tiempo:  0.6208869814020028 Precision demorado: 0.5825874694873882 Positivos verdaderos A tiempo: 0.871267252195734 Positivos verdaderos demorados: 0.2524682651622003\n",
    "\n",
    "- Ciudad de destino, aerolinea, dia de la semana y mes: Baja precisión demorado.\n",
    "\n",
    "- Ciudad de destino, aerolinea, dia de la semana y tipo de vuelo: No hay cambio.\n",
    "\n",
    "- Ciudad de destino, aerolinea, dia de la semana y periodo de salida: Aumenta demorado, baja a tiempo. Precision A tiempo:   0.5908062618767532 Precision demorado: 0.6121188730219992 Positivos verdaderos A tiempo: 0.8666047252455535 Positivos verdaderos demorados: 0.2596594629993451\n",
    "\n",
    "- Ciudad de destino, aerolinea, dia de la semana, periodo de salida, temporada alta: Baja demorado Precision A tiempo: 0.6408710519211734 Precision demorado: 0.5630684064847766 Positivos verdaderos A tiempo: 0.8656861553421661 Positivos verdaderos demorados: 0.2629732225300092\n",
    "\n",
    "La mejor combinación de variables de entrada es Ciudad de destino, aerolinea, dia de la semana y periodo de salida"
   ]
  },
  {
   "cell_type": "markdown",
   "id": "574d664b",
   "metadata": {},
   "source": [
    "Ahora se revisaran diferentes modelos:\n",
    "- Histogram Gradient Boosting Precision A tiempo: 0.6185315632619887 Precision demorado: 0.6068509147528222 Positivos verdaderos A tiempo: 0.8714849217457692 Positivos verdaderos demorados: 0.2695832612830711\n",
    "- SVM: No converge con los parámetros actuales.\n",
    "- Clasificador MLP: Precision A tiempo: 0.5818428184281843 Precision demorado: 0.6123639191290824 Positivos verdaderos A tiempo: 0.8659585910190911 Positivos verdaderos demorados: 0.2538684719535783"
   ]
  },
  {
   "cell_type": "markdown",
   "id": "6044789b",
   "metadata": {},
   "source": [
    "Es evidente que los diferentes modelos conducen a performance muy similares cuando convergen. Se seguiran explorando opciones respecto a las variables de entrada, utilizando random forest.\n",
    "\n",
    "- Ciudad de destino, dia de la semana y periodo de salida: Precision A tiempo: 0.5375966900521677 Precision demorado: 0.6481774960380349 Positivos verdaderos A tiempo: 0.8706482155863073 Positivos verdaderos demorados: 0.24140475136491074\n",
    "- Aerolinea, dia de la semana y periodo de salida: Precision A tiempo: 0.6618031162748806 Precision demorado: 0.5068924773532887 Positivos verdaderos A tiempo: 0.8544186046511628 Positivos verdaderos demorados: 0.2552558508528362\n",
    "\n",
    "La ciudad de destino tiene una gran importancia en la predicción de los vuelos demorados, mientras que la aerolinea tiene un efecto importante en la predicción de los vuelos a tiempos.  Ambos son necesarios para un correcto balance de las predicciones."
   ]
  },
  {
   "cell_type": "markdown",
   "id": "1cda91b7",
   "metadata": {},
   "source": [
    "### Test adicionales\n",
    "- Se utilizó encoding categórico normalizado en lugar de one-hot encoding para las variables categóricas. Precision A tiempo: 0.6446607290423285 Precision demorado: 0.5595138306789607 Positivos verdaderos A tiempo: 0.869796828543112 Positivos verdaderos demorados: 0.2564841498559078\n",
    "- Encoding categórico no normalizado: Precision A tiempo: 0.6200383246646591 Precision demorado: 0.582830025884383 Positivos verdaderos A tiempo: 0.8754187065189384 Positivos verdaderos demorados: 0.24496826835902086\n",
    "\n",
    "En ambos casos, bajo ligeramente la precision de los vuelos demorados, y aumento ligeramente la precision de los vuelos a tiempo.  Sin embargo el tiempo de entrenamiento mejoró considerablemente. El encoding sin normalizar produce mejores resultados.\n",
    "\n",
    "Con los nuevos tipos de datos, se probaran de nuevos los modelos\n",
    "- Histogram Gradient Boosting: Precision A tiempo: 0.6295655342016577 Precision demorado: 0.608355091383812 Positivos verdaderos A tiempo: 0.8847926267281107 Positivos verdaderos demorados: 0.25580969807868253\n",
    "- SVM: No converge\n",
    "- Clasificador MLP sin normalizar: Precision A tiempo: 0.6727917765850996 Precision demorado: 0.5380910683012259 Positivos verdaderos A tiempo: 0.875162702638741 Positivos verdaderos demorados: 0.2546622461665976\n",
    "- Clasificador MLP normalizado: Precision A tiempo: 0.6549941032386828 Precision demorado: 0.5381543921916593 Positivos verdaderos A tiempo: 0.8739862002178913 Positivos verdaderos demorados: 0.2418261562998405"
   ]
  },
  {
   "cell_type": "markdown",
   "id": "10da0a30",
   "metadata": {},
   "source": [
    "# Conclusiones\n",
    "\n",
    "### Modelo seleccionado\n",
    "\n",
    "El modelo que presenta un mejor balance entre las predicciones de los vuelos a tiempo y los vuelos atrasados es el Histogram Gradient Boosting con un encoding categorizado no normalizado.\n",
    "\n",
    "### ¿Qué performance tiene? ¿Qué métricas usaste para evaluar esa performance y por qué? \n",
    "\n",
    "La precision de los vuelos a tiempo es 62.9% y de los vuelos atrasados es 60.8%\n",
    "\n",
    "Utilice la matriz de confusión para visualizar fácilmente la cantidad de positivos verdaderos, falsos positivos, falsos negativos, y negativos verdaderos.  A partir de estos datos, se calculan fácilmente las precisiones de las predicciones y la tasa de positivos verdaderos para cada una de las categorias.\n",
    "\n",
    "Esta métrica permite visualizar problemas adicionales, como una tasa del 25.5% en los positivos verdaderos de los vuelos atrasados, debida al imbalance de los datos (hay muchos mas vuelos a tiempo que vuelos atrasados)\n",
    "\n",
    "### ¿Por qué elegiste ese algoritmo en particular? \n",
    "\n",
    "Primero que todo, el problema es de clasificación por lo cuál es necesario utilizar un algoritmo de clasificación en lugar de un algoritmo de regresión.  Se comenzo con el clasificador random forest tree ya que en mi experiencia tiende a ser rápido y posee un buen performance en la mayoría de los casos.  \n",
    "\n",
    "Como la cantidad de datos es limitada (68k approx.) los entrenamientos no toman mucho tiempo, por lo que es posible comparar los resultados con otros modelos y seleccionar el que produce mejores resultados, en este caso el Histogram Gradient Boosting\n",
    "\n",
    "### ¿Qué variables son las que más influyen en la predicción?\n",
    "\n",
    "Ciudad de destino, aerolinea, dia de la semana y periodo mañana. \n",
    "\n",
    "Dentro del curso del desafío se creo una nueva variable llamada 'periodo_dia', la cual separaba periodos del día entre mañana, tarde, y noche.  Se hizo un análisis de esta variable y se encontró que los vuelos tienden a atrasarse más durante la tarde/noche que durante la mañana, sin haber mucha diferencia entre la tarde y la noche. Por esta razón, se creo la variable 'periodo_mañana' que asigna un 1 si el vuelo salió en la mañana, y un 0 si salió en la tarde o en la noche.\n",
    "\n",
    "### ¿Cómo podrías mejorar la performance?\n",
    "Se puede mejorar la performance con datos adicionales que pueden venir de varias formas:\n",
    "- Datos de los vuelos de años adicionales. Por ejemplo 2016 y 2018. Final del 2019-presente es un periodo anómalo respecto a los vuelos por los cual no sería apropiado aplicarlos al problema actual.\n",
    "- Datos del clima a la hora programada de los vuelos.\n",
    "- Datos del tipo de avión, números de pasajeros, años que la aeronave lleva en servicio, etc."
   ]
  },
  {
   "cell_type": "markdown",
   "id": "e50e9137",
   "metadata": {},
   "source": [
    "## Exploración adicional"
   ]
  },
  {
   "cell_type": "code",
   "execution_count": 52,
   "id": "a3410eea",
   "metadata": {},
   "outputs": [
    {
     "data": {
      "image/png": "[encoded data removed]",
      "text/plain": [
       "<Figure size 432x288 with 1 Axes>"
      ]
     },
     "metadata": {
      "needs_background": "light"
     },
     "output_type": "display_data"
    }
   ],
   "source": [
    "#Se comparan los vuelos retrasados y los vuelos a tiempo. \n",
    "atrasados = latamDF.atraso_15.unique().tolist()\n",
    "for x in atrasados:\n",
    "    latamDF_week = latamDF.loc[latamDF['atraso_15']==x]\n",
    "    countMD = latamDF_week.groupby(pd.Grouper(key='Fecha-I',freq='1D')).count()\n",
    "    ax = plt.scatter(countMD.index,countMD['Fecha-O'],label=x)\n",
    "\n",
    "plt.axhline(y=85, color='r', linestyle='-')\n",
    "plt.legend();\n",
    "plt.show()"
   ]
  },
  {
   "cell_type": "markdown",
   "id": "95fb1d96",
   "metadata": {},
   "source": [
    "Se nota que existen tres rangos de fechas donde hay un número mucho mayor de vuelos retrasados que lo normal.  Estos rangos de fechas pueden considerarse como outliers, por lo cual se filtrarán del set de datos."
   ]
  },
  {
   "cell_type": "markdown",
   "id": "28c2aab8",
   "metadata": {},
   "source": [
    "## Visualizacion de resultados"
   ]
  },
  {
   "cell_type": "code",
   "execution_count": 53,
   "id": "122edd3c",
   "metadata": {},
   "outputs": [
    {
     "data": {
      "image/png": "[encoded data removed]",
      "text/plain": [
       "<Figure size 432x288 with 1 Axes>"
      ]
     },
     "metadata": {
      "needs_background": "light"
     },
     "output_type": "display_data"
    }
   ],
   "source": [
    "y_pred_final=pipeline_mdl.predict(X)\n",
    "latamDF_no_outliers_res = latamDF_no_outliers\n",
    "latamDF_no_outliers_res['real']=y\n",
    "latamDF_no_outliers_res['predicted']=y_pred_final\n",
    "\n",
    "\n",
    "atrasados = latamDF.atraso_15.unique().tolist()\n",
    "latamDF_trained_atrasados_real = latamDF_no_outliers_res.loc[latamDF_no_outliers_res['real']==1]\n",
    "countMD_real = latamDF_trained_atrasados_real.groupby(pd.Grouper(key='Fecha-I',freq='1D')).count()\n",
    "ax = plt.scatter(countMD_real.index,countMD_real['Fecha-O'],label='real')\n",
    "\n",
    "\n",
    "latamDF_trained_atrasados_predicted = latamDF_no_outliers_res.loc[latamDF_no_outliers_res['predicted']==1]\n",
    "countMD_predicted = latamDF_trained_atrasados_predicted.groupby(pd.Grouper(key='Fecha-I',freq='1D')).count()\n",
    "ax = plt.scatter(countMD_predicted.index,countMD_predicted['Fecha-O'],label='predicted')\n",
    "\n",
    "#ax = plt.scatter(countMD_predicted.index,countMD_predicted['Fecha-O']-countMD_real['Fecha-O'],label='diferencia')\n",
    "\n",
    "plt.legend()\n",
    "plt.show()"
   ]
  },
  {
   "cell_type": "code",
   "execution_count": 54,
   "id": "d046ef99",
   "metadata": {},
   "outputs": [
    {
     "data": {
      "image/png": "[encoded data removed]",
      "text/plain": [
       "<Figure size 432x288 with 1 Axes>"
      ]
     },
     "metadata": {
      "needs_background": "light"
     },
     "output_type": "display_data"
    }
   ],
   "source": [
    "latamDF_trained_atrasados_real = latamDF_no_outliers_res.loc[latamDF_no_outliers_res['real']==0]\n",
    "countMD_real = latamDF_trained_atrasados_real.groupby(pd.Grouper(key='Fecha-I',freq='1D')).count()\n",
    "ax = plt.scatter(countMD_real.index,countMD_real['Fecha-O'],label='real')\n",
    "\n",
    "\n",
    "latamDF_trained_atrasados_predicted = latamDF_no_outliers_res.loc[latamDF_no_outliers_res['predicted']==0]\n",
    "countMD_predicted = latamDF_trained_atrasados_predicted.groupby(pd.Grouper(key='Fecha-I',freq='1D')).count()\n",
    "ax = plt.scatter(countMD_predicted.index,countMD_predicted['Fecha-O'],label='predicted')\n",
    "\n",
    "#ax = plt.scatter(countMD_predicted.index,countMD_predicted['Fecha-O']-countMD_real['Fecha-O'],label='diferencia')\n",
    "\n",
    "plt.legend()\n",
    "plt.show()"
   ]
  },
  {
   "cell_type": "code",
   "execution_count": null,
   "id": "41a63acf",
   "metadata": {},
   "outputs": [],
   "source": []
  }
 ],
 "metadata": {
  "kernelspec": {
   "display_name": "Python 3 (ipykernel)",
   "language": "python",
   "name": "python3"
  },
  "language_info": {
   "codemirror_mode": {
    "name": "ipython",
    "version": 3
   },
   "file_extension": ".py",
   "mimetype": "text/x-python",
   "name": "python",
   "nbconvert_exporter": "python",
   "pygments_lexer": "ipython3",
   "version": "3.9.7"
  }
 },
 "nbformat": 4,
 "nbformat_minor": 5
}
